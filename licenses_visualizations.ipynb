{
 "cells": [
  {
   "cell_type": "markdown",
   "metadata": {},
   "source": [
    "# License Visualization Project"
   ]
  },
  {
   "cell_type": "code",
   "execution_count": 1,
   "metadata": {},
   "outputs": [
    {
     "data": {
      "text/html": [
       "<div>\n",
       "<style scoped>\n",
       "    .dataframe tbody tr th:only-of-type {\n",
       "        vertical-align: middle;\n",
       "    }\n",
       "\n",
       "    .dataframe tbody tr th {\n",
       "        vertical-align: top;\n",
       "    }\n",
       "\n",
       "    .dataframe thead th {\n",
       "        text-align: right;\n",
       "    }\n",
       "</style>\n",
       "<table border=\"1\" class=\"dataframe\">\n",
       "  <thead>\n",
       "    <tr style=\"text-align: right;\">\n",
       "      <th></th>\n",
       "      <th>_id</th>\n",
       "      <th>License Type</th>\n",
       "      <th>Description</th>\n",
       "      <th>License Number</th>\n",
       "      <th>License Status</th>\n",
       "      <th>Business</th>\n",
       "      <th>Title</th>\n",
       "      <th>First Name</th>\n",
       "      <th>Middle</th>\n",
       "      <th>Last Name</th>\n",
       "      <th>...</th>\n",
       "      <th>Specialty/Qualifier</th>\n",
       "      <th>Controlled Substance Schedule</th>\n",
       "      <th>Delegated Controlled Substance Schedule</th>\n",
       "      <th>Ever Disciplined</th>\n",
       "      <th>LastModifiedDate</th>\n",
       "      <th>Case Number</th>\n",
       "      <th>Action</th>\n",
       "      <th>Discipline Start Date</th>\n",
       "      <th>Discipline End Date</th>\n",
       "      <th>Discipline Reason</th>\n",
       "    </tr>\n",
       "  </thead>\n",
       "  <tbody>\n",
       "    <tr>\n",
       "      <th>0</th>\n",
       "      <td>1189509</td>\n",
       "      <td>DETECTIVE BOARD</td>\n",
       "      <td>PERMANENT EMPLOYEE REGISTRATION</td>\n",
       "      <td>129446286</td>\n",
       "      <td>NOT RENEWED</td>\n",
       "      <td>N</td>\n",
       "      <td>NaN</td>\n",
       "      <td>EILEEN</td>\n",
       "      <td>NaN</td>\n",
       "      <td>SANTACRUZ</td>\n",
       "      <td>...</td>\n",
       "      <td>NaN</td>\n",
       "      <td>NaN</td>\n",
       "      <td>NaN</td>\n",
       "      <td>N</td>\n",
       "      <td>03/18/2022</td>\n",
       "      <td>NaN</td>\n",
       "      <td>NaN</td>\n",
       "      <td>NaN</td>\n",
       "      <td>NaN</td>\n",
       "      <td>NaN</td>\n",
       "    </tr>\n",
       "    <tr>\n",
       "      <th>1</th>\n",
       "      <td>801037</td>\n",
       "      <td>DETECTIVE BOARD</td>\n",
       "      <td>FIREARM CONTROL CARD</td>\n",
       "      <td>229030294.0</td>\n",
       "      <td>NOT RENEWED</td>\n",
       "      <td>N</td>\n",
       "      <td>NaN</td>\n",
       "      <td>DAGMAR</td>\n",
       "      <td>J</td>\n",
       "      <td>NORDLUND</td>\n",
       "      <td>...</td>\n",
       "      <td>NaN</td>\n",
       "      <td>NaN</td>\n",
       "      <td>NaN</td>\n",
       "      <td>N</td>\n",
       "      <td>08/16/2006</td>\n",
       "      <td>NaN</td>\n",
       "      <td>NaN</td>\n",
       "      <td>NaN</td>\n",
       "      <td>NaN</td>\n",
       "      <td>NaN</td>\n",
       "    </tr>\n",
       "    <tr>\n",
       "      <th>2</th>\n",
       "      <td>365129</td>\n",
       "      <td>COSMO</td>\n",
       "      <td>LICENSED COSMETOLOGIST</td>\n",
       "      <td>11053076.0</td>\n",
       "      <td>NOT RENEWED</td>\n",
       "      <td>N</td>\n",
       "      <td>NaN</td>\n",
       "      <td>RADOJE</td>\n",
       "      <td>NaN</td>\n",
       "      <td>ZELENOVIC</td>\n",
       "      <td>...</td>\n",
       "      <td>NaN</td>\n",
       "      <td>NaN</td>\n",
       "      <td>NaN</td>\n",
       "      <td>N</td>\n",
       "      <td>05/26/2006</td>\n",
       "      <td>NaN</td>\n",
       "      <td>NaN</td>\n",
       "      <td>NaN</td>\n",
       "      <td>NaN</td>\n",
       "      <td>NaN</td>\n",
       "    </tr>\n",
       "    <tr>\n",
       "      <th>3</th>\n",
       "      <td>595427</td>\n",
       "      <td>COSMO</td>\n",
       "      <td>LICENSED COSMETOLOGIST</td>\n",
       "      <td>11295645.0</td>\n",
       "      <td>ACTIVE</td>\n",
       "      <td>N</td>\n",
       "      <td>NaN</td>\n",
       "      <td>BECKY SUE</td>\n",
       "      <td>L</td>\n",
       "      <td>BURROUGHS</td>\n",
       "      <td>...</td>\n",
       "      <td>NaN</td>\n",
       "      <td>NaN</td>\n",
       "      <td>NaN</td>\n",
       "      <td>N</td>\n",
       "      <td>11/12/2021</td>\n",
       "      <td>NaN</td>\n",
       "      <td>NaN</td>\n",
       "      <td>NaN</td>\n",
       "      <td>NaN</td>\n",
       "      <td>NaN</td>\n",
       "    </tr>\n",
       "    <tr>\n",
       "      <th>4</th>\n",
       "      <td>653668</td>\n",
       "      <td>COSMO</td>\n",
       "      <td>LICENSED NAIL TECHNICIAN</td>\n",
       "      <td>169006247</td>\n",
       "      <td>NOT RENEWED</td>\n",
       "      <td>N</td>\n",
       "      <td>NaN</td>\n",
       "      <td>BILL G</td>\n",
       "      <td>L</td>\n",
       "      <td>LETNER</td>\n",
       "      <td>...</td>\n",
       "      <td>NaN</td>\n",
       "      <td>NaN</td>\n",
       "      <td>NaN</td>\n",
       "      <td>N</td>\n",
       "      <td>05/30/2006</td>\n",
       "      <td>NaN</td>\n",
       "      <td>NaN</td>\n",
       "      <td>NaN</td>\n",
       "      <td>NaN</td>\n",
       "      <td>NaN</td>\n",
       "    </tr>\n",
       "  </tbody>\n",
       "</table>\n",
       "<p>5 rows × 31 columns</p>\n",
       "</div>"
      ],
      "text/plain": [
       "       _id     License Type                      Description License Number  \\\n",
       "0  1189509  DETECTIVE BOARD  PERMANENT EMPLOYEE REGISTRATION      129446286   \n",
       "1   801037  DETECTIVE BOARD             FIREARM CONTROL CARD    229030294.0   \n",
       "2   365129            COSMO           LICENSED COSMETOLOGIST     11053076.0   \n",
       "3   595427            COSMO           LICENSED COSMETOLOGIST     11295645.0   \n",
       "4   653668            COSMO         LICENSED NAIL TECHNICIAN      169006247   \n",
       "\n",
       "  License Status Business Title First Name Middle  Last Name  ...  \\\n",
       "0    NOT RENEWED        N   NaN     EILEEN    NaN  SANTACRUZ  ...   \n",
       "1    NOT RENEWED        N   NaN     DAGMAR      J   NORDLUND  ...   \n",
       "2    NOT RENEWED        N   NaN     RADOJE    NaN  ZELENOVIC  ...   \n",
       "3         ACTIVE        N   NaN  BECKY SUE      L  BURROUGHS  ...   \n",
       "4    NOT RENEWED        N   NaN     BILL G      L     LETNER  ...   \n",
       "\n",
       "  Specialty/Qualifier Controlled Substance Schedule  \\\n",
       "0                 NaN                           NaN   \n",
       "1                 NaN                           NaN   \n",
       "2                 NaN                           NaN   \n",
       "3                 NaN                           NaN   \n",
       "4                 NaN                           NaN   \n",
       "\n",
       "  Delegated Controlled Substance Schedule Ever Disciplined LastModifiedDate  \\\n",
       "0                                     NaN                N       03/18/2022   \n",
       "1                                     NaN                N       08/16/2006   \n",
       "2                                     NaN                N       05/26/2006   \n",
       "3                                     NaN                N       11/12/2021   \n",
       "4                                     NaN                N       05/30/2006   \n",
       "\n",
       "  Case Number Action Discipline Start Date Discipline End Date  \\\n",
       "0         NaN    NaN                   NaN                 NaN   \n",
       "1         NaN    NaN                   NaN                 NaN   \n",
       "2         NaN    NaN                   NaN                 NaN   \n",
       "3         NaN    NaN                   NaN                 NaN   \n",
       "4         NaN    NaN                   NaN                 NaN   \n",
       "\n",
       "  Discipline Reason  \n",
       "0               NaN  \n",
       "1               NaN  \n",
       "2               NaN  \n",
       "3               NaN  \n",
       "4               NaN  \n",
       "\n",
       "[5 rows x 31 columns]"
      ]
     },
     "execution_count": 1,
     "metadata": {},
     "output_type": "execute_result"
    }
   ],
   "source": [
    "import pandas as pd\n",
    "\n",
    "url = \"https://github.com/UIUC-iSchool-DataViz/is445_data/raw/main/licenses_fall2022.csv\"\n",
    "df = pd.read_csv(url)\n",
    "df.head()"
   ]
  },
  {
   "cell_type": "code",
   "execution_count": 2,
   "metadata": {},
   "outputs": [
    {
     "name": "stdout",
     "output_type": "stream",
     "text": [
      "Requirement already satisfied: altair in /Library/Frameworks/Python.framework/Versions/3.11/lib/python3.11/site-packages (5.5.0)\n",
      "Requirement already satisfied: jinja2 in /Library/Frameworks/Python.framework/Versions/3.11/lib/python3.11/site-packages (from altair) (3.1.2)\n",
      "Requirement already satisfied: jsonschema>=3.0 in /Library/Frameworks/Python.framework/Versions/3.11/lib/python3.11/site-packages (from altair) (4.23.0)\n",
      "Requirement already satisfied: narwhals>=1.14.2 in /Library/Frameworks/Python.framework/Versions/3.11/lib/python3.11/site-packages (from altair) (1.35.0)\n",
      "Requirement already satisfied: packaging in /Users/autumnrosedale/Library/Python/3.11/lib/python/site-packages (from altair) (23.1)\n",
      "Requirement already satisfied: typing-extensions>=4.10.0 in /Library/Frameworks/Python.framework/Versions/3.11/lib/python3.11/site-packages (from altair) (4.13.2)\n",
      "Requirement already satisfied: attrs>=22.2.0 in /Library/Frameworks/Python.framework/Versions/3.11/lib/python3.11/site-packages (from jsonschema>=3.0->altair) (25.3.0)\n",
      "Requirement already satisfied: jsonschema-specifications>=2023.03.6 in /Library/Frameworks/Python.framework/Versions/3.11/lib/python3.11/site-packages (from jsonschema>=3.0->altair) (2024.10.1)\n",
      "Requirement already satisfied: referencing>=0.28.4 in /Library/Frameworks/Python.framework/Versions/3.11/lib/python3.11/site-packages (from jsonschema>=3.0->altair) (0.36.2)\n",
      "Requirement already satisfied: rpds-py>=0.7.1 in /Library/Frameworks/Python.framework/Versions/3.11/lib/python3.11/site-packages (from jsonschema>=3.0->altair) (0.24.0)\n",
      "Requirement already satisfied: MarkupSafe>=2.0 in /Library/Frameworks/Python.framework/Versions/3.11/lib/python3.11/site-packages (from jinja2->altair) (2.1.3)\n",
      "\n",
      "\u001b[1m[\u001b[0m\u001b[34;49mnotice\u001b[0m\u001b[1;39;49m]\u001b[0m\u001b[39;49m A new release of pip is available: \u001b[0m\u001b[31;49m23.0\u001b[0m\u001b[39;49m -> \u001b[0m\u001b[32;49m25.0.1\u001b[0m\n",
      "\u001b[1m[\u001b[0m\u001b[34;49mnotice\u001b[0m\u001b[1;39;49m]\u001b[0m\u001b[39;49m To update, run: \u001b[0m\u001b[32;49mpip3 install --upgrade pip\u001b[0m\n",
      "Note: you may need to restart the kernel to use updated packages.\n"
     ]
    }
   ],
   "source": [
    "pip install altair"
   ]
  },
  {
   "cell_type": "code",
   "execution_count": 3,
   "metadata": {},
   "outputs": [],
   "source": [
    "import altair as alt\n",
    "\n"
   ]
  },
  {
   "cell_type": "code",
   "execution_count": 4,
   "metadata": {},
   "outputs": [
    {
     "data": {
      "text/plain": [
       "(10000, 31)"
      ]
     },
     "execution_count": 4,
     "metadata": {},
     "output_type": "execute_result"
    }
   ],
   "source": [
    "df.shape"
   ]
  },
  {
   "cell_type": "code",
   "execution_count": 5,
   "metadata": {},
   "outputs": [
    {
     "data": {
      "text/plain": [
       "_id                                            0\n",
       "License Type                                   0\n",
       "Description                                    0\n",
       "License Number                                60\n",
       "License Status                                 0\n",
       "Business                                       0\n",
       "Title                                       9890\n",
       "First Name                                   395\n",
       "Middle                                      6378\n",
       "Last Name                                    395\n",
       "Prefix                                      9997\n",
       "Suffix                                      9590\n",
       "Business Name                                  0\n",
       "BusinessDBA                                 9885\n",
       "Original Issue Date                            5\n",
       "Effective Date                               792\n",
       "Expiration Date                              500\n",
       "City                                          11\n",
       "State                                          0\n",
       "Zip                                           71\n",
       "County                                       411\n",
       "Specialty/Qualifier                         9692\n",
       "Controlled Substance Schedule               9791\n",
       "Delegated Controlled Substance Schedule    10000\n",
       "Ever Disciplined                               0\n",
       "LastModifiedDate                               0\n",
       "Case Number                                 9657\n",
       "Action                                      9658\n",
       "Discipline Start Date                       9657\n",
       "Discipline End Date                         9861\n",
       "Discipline Reason                           9713\n",
       "dtype: int64"
      ]
     },
     "execution_count": 5,
     "metadata": {},
     "output_type": "execute_result"
    }
   ],
   "source": [
    "df.isnull().sum()"
   ]
  },
  {
   "cell_type": "code",
   "execution_count": 6,
   "metadata": {},
   "outputs": [
    {
     "data": {
      "text/html": [
       "<div>\n",
       "<style scoped>\n",
       "    .dataframe tbody tr th:only-of-type {\n",
       "        vertical-align: middle;\n",
       "    }\n",
       "\n",
       "    .dataframe tbody tr th {\n",
       "        vertical-align: top;\n",
       "    }\n",
       "\n",
       "    .dataframe thead th {\n",
       "        text-align: right;\n",
       "    }\n",
       "</style>\n",
       "<table border=\"1\" class=\"dataframe\">\n",
       "  <thead>\n",
       "    <tr style=\"text-align: right;\">\n",
       "      <th></th>\n",
       "      <th>_id</th>\n",
       "      <th>Delegated Controlled Substance Schedule</th>\n",
       "      <th>Case Number</th>\n",
       "    </tr>\n",
       "  </thead>\n",
       "  <tbody>\n",
       "    <tr>\n",
       "      <th>count</th>\n",
       "      <td>1.000000e+04</td>\n",
       "      <td>0.0</td>\n",
       "      <td>3.430000e+02</td>\n",
       "    </tr>\n",
       "    <tr>\n",
       "      <th>mean</th>\n",
       "      <td>7.787635e+05</td>\n",
       "      <td>NaN</td>\n",
       "      <td>2.005356e+09</td>\n",
       "    </tr>\n",
       "    <tr>\n",
       "      <th>std</th>\n",
       "      <td>2.901112e+05</td>\n",
       "      <td>NaN</td>\n",
       "      <td>9.249388e+06</td>\n",
       "    </tr>\n",
       "    <tr>\n",
       "      <th>min</th>\n",
       "      <td>2.792630e+05</td>\n",
       "      <td>NaN</td>\n",
       "      <td>1.982000e+09</td>\n",
       "    </tr>\n",
       "    <tr>\n",
       "      <th>25%</th>\n",
       "      <td>5.264690e+05</td>\n",
       "      <td>NaN</td>\n",
       "      <td>1.997526e+09</td>\n",
       "    </tr>\n",
       "    <tr>\n",
       "      <th>50%</th>\n",
       "      <td>7.806600e+05</td>\n",
       "      <td>NaN</td>\n",
       "      <td>2.004005e+09</td>\n",
       "    </tr>\n",
       "    <tr>\n",
       "      <th>75%</th>\n",
       "      <td>1.028364e+06</td>\n",
       "      <td>NaN</td>\n",
       "      <td>2.013504e+09</td>\n",
       "    </tr>\n",
       "    <tr>\n",
       "      <th>max</th>\n",
       "      <td>1.279042e+06</td>\n",
       "      <td>NaN</td>\n",
       "      <td>2.021011e+09</td>\n",
       "    </tr>\n",
       "  </tbody>\n",
       "</table>\n",
       "</div>"
      ],
      "text/plain": [
       "                _id  Delegated Controlled Substance Schedule   Case Number\n",
       "count  1.000000e+04                                      0.0  3.430000e+02\n",
       "mean   7.787635e+05                                      NaN  2.005356e+09\n",
       "std    2.901112e+05                                      NaN  9.249388e+06\n",
       "min    2.792630e+05                                      NaN  1.982000e+09\n",
       "25%    5.264690e+05                                      NaN  1.997526e+09\n",
       "50%    7.806600e+05                                      NaN  2.004005e+09\n",
       "75%    1.028364e+06                                      NaN  2.013504e+09\n",
       "max    1.279042e+06                                      NaN  2.021011e+09"
      ]
     },
     "execution_count": 6,
     "metadata": {},
     "output_type": "execute_result"
    }
   ],
   "source": [
    "df.describe()"
   ]
  },
  {
   "cell_type": "code",
   "execution_count": 7,
   "metadata": {},
   "outputs": [],
   "source": [
    "import matplotlib.pyplot as plt"
   ]
  },
  {
   "cell_type": "markdown",
   "metadata": {},
   "source": [
    "## Visualization 1: License Type Bar Chart"
   ]
  },
  {
   "cell_type": "markdown",
   "metadata": {},
   "source": [
    "First plot: In my first visualization, I created a bar chart that displays the number of licenses issued for each License Type."
   ]
  },
  {
   "cell_type": "code",
   "execution_count": 8,
   "metadata": {},
   "outputs": [],
   "source": [
    "import altair as alt\n",
    "df['Original Issue Date'] = pd.to_datetime(df['Original Issue Date'], errors='coerce')\n",
    "df['year'] = df['Original Issue Date'].dt.year"
   ]
  },
  {
   "cell_type": "code",
   "execution_count": 9,
   "metadata": {},
   "outputs": [
    {
     "data": {
      "text/plain": [
       "0"
      ]
     },
     "execution_count": 9,
     "metadata": {},
     "output_type": "execute_result"
    }
   ],
   "source": [
    "df['License Type'].isnull().sum()"
   ]
  },
  {
   "cell_type": "code",
   "execution_count": 10,
   "metadata": {},
   "outputs": [
    {
     "data": {
      "text/plain": [
       "array(['DETECTIVE BOARD', 'COSMO', 'FUNERAL AND EMBALMER', 'DENTAL',\n",
       "       'DESIGN FIRM', 'LIMITED LIABILITY CO', 'ATHLETIC TRAINER',\n",
       "       'DIETETIC AND NUTRITION', 'APPRAISAL', 'MASSAGE LICENSING BD',\n",
       "       'ARCHITECT', 'ATHLETICS', 'MAR AND FAM THERAPIST', 'GEOLOGY',\n",
       "       'HME AND SERVICES PROV', 'COLLECTION AGENCY',\n",
       "       'ENVIRON. HLTH PRACT', 'HOME INSPECTOR', 'LAND SURVEYOR BOARD',\n",
       "       'CLIN PSYCHOLOGIST', 'INTERIOR DESIGN', 'LANDSCAPE ARCHITECT',\n",
       "       'COMM ASSOC MGR', 'IDPR', 'MEDICAL BOARD', 'DETECT. DECEPTION',\n",
       "       'AUCTIONEER', 'CEMETERY OVERSIGHT'], dtype=object)"
      ]
     },
     "execution_count": 10,
     "metadata": {},
     "output_type": "execute_result"
    }
   ],
   "source": [
    "df['License Type'].unique()"
   ]
  },
  {
   "cell_type": "code",
   "execution_count": 11,
   "metadata": {},
   "outputs": [],
   "source": [
    "df['License Type'] = df['License Type'].astype('category')"
   ]
  },
  {
   "cell_type": "code",
   "execution_count": 12,
   "metadata": {},
   "outputs": [],
   "source": [
    "plot1 = alt.Chart(df).mark_bar().encode(\n",
    "    x='License Type:N',\n",
    "    y='count():Q',\n",
    "    color='License Type:N', \n",
    "    tooltip=['License Type:N', 'count():Q']).properties(\n",
    "    title='License Type Distribution')\n",
    "\n",
    "plot1\n",
    "\n",
    "plot1.save('/Users/autumnrosedale/Desktop/is445_git/arosedale.github.io/chart1.html')\n"
   ]
  },
  {
   "cell_type": "markdown",
   "metadata": {},
   "source": [
    "In my first visualization, I created a bar chart that displays the number of licenses issued for each License Type. For my x-axis, I encoded the nominal field License Type. For my y-axis, I used a quantitative count aggregation (count()). This allowed me to show how many records fall into each category. For my design, I chose to color each bar by License Type using Altair’s default categorical color scheme. This way observers can tell each license type apart and it is easy to compare at a glance.\n",
    "\n",
    "For my analysis, I did not filter out any rows and performed a group transformation. The only way I manipulated my data for this plot was the implicit aggregation performed by Altair’s count(). The purpose of this chart is to provide an overview of which licenses are most and least common. This visualization could be used by administrators to see where to focus outreach, training, or renewal reminders.\n",
    "\n",
    "\n"
   ]
  },
  {
   "cell_type": "markdown",
   "metadata": {},
   "source": [
    "## Visualization 2: Interactive Time Trend"
   ]
  },
  {
   "cell_type": "markdown",
   "metadata": {},
   "source": [
    "Plot 2: My second visualization shows the number of licenses issued over time."
   ]
  },
  {
   "cell_type": "code",
   "execution_count": 13,
   "metadata": {},
   "outputs": [
    {
     "name": "stdout",
     "output_type": "stream",
     "text": [
      "Index(['_id', 'License Type', 'Description', 'License Number',\n",
      "       'License Status', 'Business', 'Title', 'First Name', 'Middle',\n",
      "       'Last Name', 'Prefix', 'Suffix', 'Business Name', 'BusinessDBA',\n",
      "       'Original Issue Date', 'Effective Date', 'Expiration Date', 'City',\n",
      "       'State', 'Zip', 'County', 'Specialty/Qualifier',\n",
      "       'Controlled Substance Schedule',\n",
      "       'Delegated Controlled Substance Schedule', 'Ever Disciplined',\n",
      "       'LastModifiedDate', 'Case Number', 'Action', 'Discipline Start Date',\n",
      "       'Discipline End Date', 'Discipline Reason', 'year'],\n",
      "      dtype='object')\n"
     ]
    }
   ],
   "source": [
    "print(df.columns)"
   ]
  },
  {
   "cell_type": "code",
   "execution_count": 14,
   "metadata": {},
   "outputs": [],
   "source": [
    "plot2 = alt.Chart(df).mark_point().encode(\n",
    "    x='year:O',  # Ordinal encoding for the year\n",
    "    y='License Type:N',  # Categorical encoding for License Type\n",
    "    color='License Type:N',  # Color encoding by License Type\n",
    "    tooltip=['year', 'License Type', 'City', 'State']  # Tooltip with additional details\n",
    ").properties(\n",
    "    title='License Type Over Time'\n",
    ").interactive()  # Enable interactivity (zoom, pan, hover)\n",
    "\n",
    "plot2.save('/Users/autumnrosedale/Desktop/is445_git/arosedale.github.io/chart2.html')\n"
   ]
  },
  {
   "cell_type": "markdown",
   "metadata": {},
   "source": [
    "For the second plot, I built an interactive line chart showing how the number of licenses issued changes across years for different license types. \n",
    "\n",
    "First, transformed the \"Original Issue Date column\" using: \n",
    "\n",
    "df['Original Issue Date'] = pd.to_datetime(df['Original Issue Date'])\n",
    "\n",
    "and\n",
    "\n",
    "df['Year'] = df['Original Issue Date'].dt.year.\n",
    "\n",
    "This allowed me to extract the Year field, then I grouped by Year and License Type to compute counts. I encoded x='Year:T' (temporal) and y='count():Q' (quantitative). I used used color='License Type:N' so each line has a distinct color like my last plot had.\n",
    "\n",
    "\n",
    "For interactivity, I added a dropdown selector for License Type allowing the user to choose which license type’s trend line they want to look at. This aids in reducing clutter by showing only the selected line. This makes it easier to focus on the evolution of a single license category without losing context of the overall dataset.\n",
    "\n",
    "This plot is helpful because it helps identify any trends in license types over the years. It's simple to spot unusual spikes or recurring patterns. Additonally, if a particular license type shows steady growth year‑over‑year the department can plan for increased processing capacity or put aside more resources for that license type."
   ]
  },
  {
   "cell_type": "markdown",
   "metadata": {},
   "source": [
    "## The Data\n",
    "You can access the dataset I used for my analysis here:\n",
    "\n",
    "[The Data](https://github.com/arosadale/arosadale.github.io/raw/main/licenses_fall2022.csv)\n",
    "\n",
    "## The Analysis\n",
    "Here is the Python notebook I used to generate the visualizations:\n",
    "\n",
    "[The Analysis](https://github.com/arosadale/arosadale.github.io/raw/main/license_visualizations.ipynb)"
   ]
  },
  {
   "cell_type": "code",
   "execution_count": 15,
   "metadata": {},
   "outputs": [
    {
     "name": "stdout",
     "output_type": "stream",
     "text": [
      "/Users/autumnrosedale/Desktop/is445_git/arosedale.github.io\n"
     ]
    }
   ],
   "source": [
    "import os\n",
    "print(os.getcwd())"
   ]
  }
 ],
 "metadata": {
  "kernelspec": {
   "display_name": "base",
   "language": "python",
   "name": "python3"
  },
  "language_info": {
   "codemirror_mode": {
    "name": "ipython",
    "version": 3
   },
   "file_extension": ".py",
   "mimetype": "text/x-python",
   "name": "python",
   "nbconvert_exporter": "python",
   "pygments_lexer": "ipython3",
   "version": "3.11.2"
  },
  "orig_nbformat": 4
 },
 "nbformat": 4,
 "nbformat_minor": 2
}
